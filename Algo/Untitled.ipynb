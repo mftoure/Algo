{
 "cells": [
  {
   "cell_type": "code",
   "execution_count": 1,
   "metadata": {},
   "outputs": [],
   "source": [
    "from math import inf\n",
    "\n",
    "\n",
    "Cdel=2\n",
    "Cins=2\n",
    "\n",
    "def Csub(a,b):\n",
    "\tif(a==b):\n",
    "\t\treturn 0\n",
    "\tif((a=='A' and b=='T') or (a=='T' and b=='A') or (a=='G' and b=='C') or (a=='C' and b=='G')):\n",
    "\t\treturn 3\n",
    "\treturn 4\n",
    "\n",
    "def DIST_NAIF_REC(x,y,i,j,c,dist):\n",
    "\tif(i==len(x)-1 and j==len(y)-1):\n",
    "\t\tif(c<dist):\n",
    "\t\t\tdist=c\n",
    "\telse:\n",
    "\t\tif(i<len(x)-1 and j<len(y)-1):\n",
    "\t\t\tdist=DIST_NAIF_REC(x,y,i+1,j+1,c+Csub(x[i+1],y[i+1]),dist)\n",
    "\t\telse:\n",
    "\t\t\tif(i<len(x)):\n",
    "\t\t\t\tdist=DIST_NAIF_REC(x,y,i+1,j,c+Cdel,dist)\n",
    "\t\t\tif(j<len(y)):\n",
    "\t\t\t\tdist=DIST_NAIF_REC(x,y,i,j+1,c+Cins,dist)\n",
    "\treturn dist\n",
    "\n",
    "def DIST_NAIF(x,y):\n",
    "\treturn DIST_NAIF_REC(x,y,0,0,0,inf)\n",
    "\n",
    "x=['T','A','T','A','T','G','A','G','T','C']\n",
    "y=['T','A','T','T','T']\n",
    "\n",
    "\n",
    "\n",
    "print(\"Inst_0000010_44.adn :\",DIST_NAIF(x,y))\n",
    "\n",
    "\n",
    "x=['T','G','G','G','T','G','C','T','A','T']\n",
    "y=['G','G','G','G','T','T','C','T','A','T']\n",
    "\n",
    "\n",
    "print(\"Inst_0000010_7.adn :\",DIST_NAIF(x,y))\n",
    "\n",
    "x=['A','A','C','T','G','T','C','T','T','T']\n",
    "y=['A','A','C','T','G','T','T','T','T']\n",
    "\n",
    "\n",
    "print(\"Inst_0000010_8.adn :\",DIST_NAIF(x,y))\n",
    "\n",
    "\n"
   ]
  },
  {
   "cell_type": "code",
   "execution_count": null,
   "metadata": {},
   "outputs": [],
   "source": []
  }
 ],
 "metadata": {
  "kernelspec": {
   "display_name": "Python 2",
   "language": "python",
   "name": "python2"
  },
  "language_info": {
   "codemirror_mode": {
    "name": "ipython",
    "version": 3
   },
   "file_extension": ".py",
   "mimetype": "text/x-python",
   "name": "python",
   "nbconvert_exporter": "python",
   "pygments_lexer": "ipython3",
   "version": "3.7.3"
  }
 },
 "nbformat": 4,
 "nbformat_minor": 2
}
