{
 "cells": [
  {
   "cell_type": "markdown",
   "metadata": {},
   "source": [
    "# Mini-projet: Alignement de séquences"
   ]
  },
  {
   "cell_type": "markdown",
   "metadata": {},
   "source": [
    "<br>"
   ]
  },
  {
   "cell_type": "markdown",
   "metadata": {},
   "source": [
    "### TOURE Momar Faly\n",
    "### SELVACHANDRAN Nagulan"
   ]
  },
  {
   "cell_type": "markdown",
   "metadata": {},
   "source": [
    "<br>\n"
   ]
  },
  {
   "cell_type": "markdown",
   "metadata": {},
   "source": [
    "## 2. Le problème d'alignement de séquences"
   ]
  },
  {
   "cell_type": "markdown",
   "metadata": {},
   "source": [
    "### 2.2 Alignement de deux mots"
   ]
  },
  {
   "cell_type": "markdown",
   "metadata": {},
   "source": [
    "# Question 1"
   ]
  },
  {
   "cell_type": "markdown",
   "metadata": {},
   "source": [
    "![aaaa](images/1.a.jpg)\n",
    "![bbbb](images/1.b.jpg)"
   ]
  },
  {
   "cell_type": "markdown",
   "metadata": {},
   "source": [
    "# Question 2"
   ]
  },
  {
   "cell_type": "markdown",
   "metadata": {},
   "source": [
    "Si x est de longueur **n**, et y est de longueur **m**, alors la longueur maximale d'un alignement de (x,y) est **n+m**.\n",
    "<br>\n",
    "**Exemple:**\n",
    "x = ATG et y = AT ,  $\\bar{x}$ = ATG-- et $\\bar{y}$ ,  ($\\bar{x}$,$\\bar{y}$) est un alignement de (x,y)"
   ]
  },
  {
   "cell_type": "markdown",
   "metadata": {},
   "source": [
    "## 3 Algorithmes pour l'alignement de séquences"
   ]
  },
  {
   "cell_type": "markdown",
   "metadata": {},
   "source": [
    "### 3.1 Méthode naïve par énumération"
   ]
  },
  {
   "cell_type": "markdown",
   "metadata": {},
   "source": [
    "# Question 3"
   ]
  },
  {
   "cell_type": "markdown",
   "metadata": {},
   "source": [
    "Étant donné x un mot de longueur **n**, en ajoutant **k** gaps, on peut obtenir **$\\binom{n+k}{n}$** mots $\\bar{x}$\n"
   ]
  },
  {
   "cell_type": "markdown",
   "metadata": {},
   "source": [
    "# Question 4"
   ]
  },
  {
   "cell_type": "markdown",
   "metadata": {},
   "source": [
    "Soit (x,y) avec x de longueur **n** et y de longueur **m** en supposant que **m$\\leq$n**. \n",
    "<br>\n",
    "<br>\n",
    "En ajoutant **k** gaps à x, comme la longueur de $\\bar{x}$ doit être égale à celle de $\\bar{y}$, on a le nombre de gaps de $\\bar{y}$ qui doit être égal à **n+k-m**\n",
    "<br>\n",
    "On aura **$\\binom{n}{n+k-m}$** façons d'insérer ces gaps dans y.\n",
    "<br>\n",
    "Sachant qu'il y a **$\\binom{n+k}{n}$** façons d'avoir $\\bar{x}$, et que pour chaque $\\bar{x}$, on a **$\\binom{n}{n+k-m}$** façons d'avoir $\\bar{y}$, on aura au total **$\\binom{n+k}{n}$** x **$\\binom{n}{n+k-m}$** alignements possibles\n",
    "<br>\n",
    "<br>\n",
    "Si kle nombre de gaps n'est pas fixé on a au total:  $\\sum_{k=0}^{m} {\\binom{n+k}{n} . \\binom{n}{n+k-m}}$\n",
    "\n",
    "Pour |x|=15 et |y|=10, le nombre de gaps maximal qu'on peut insérer dans x est 10.\n",
    "<br>\n",
    "Calculons le nombre d'alignements possibles selon le nombre k de gaps:\n",
    "<br>\n",
    "<br>\n",
    "Pour k=0 on a: 1 x  3003 = 3003<br>\n",
    "Pour k=1 on a: 16 x 5005 = 80080<br>\n",
    "Pour k=2 on a: 136 x 6435 = 875160<br>\n",
    "Pour k=3 on a: 816 x 6435 = 5250960<br>\n",
    "Pour k=4 on a: 3876 x 5005 = 19399380<br>\n",
    "Pour k=5 on a: 15504 x 3003 = 46558512<br>\n",
    "Pour k=6 on a: 54264 x 1365 = 74070360<br>\n",
    "Pour k=7 on a: 170544 x  455 = 77597520<br>\n",
    "Pour k=8 on a: 490314 x 105 = 51482970 <br>\n",
    "Pour k=9 on a: 1307504 x 15 = 19612560 <br>\n",
    "Pour k=10 on a: 3268760 x 1 = 3268760<br>\n",
    "<br>\n",
    "<br>\n",
    "Au total, on a: **298 199 265 alignements possibles**."
   ]
  },
  {
   "cell_type": "markdown",
   "metadata": {},
   "source": [
    "# Question 5"
   ]
  },
  {
   "cell_type": "markdown",
   "metadata": {},
   "source": [
    "La complexité serait factorielle O(n!). Pour trouver l'alignement, elle serait doublement exponentielle"
   ]
  },
  {
   "cell_type": "markdown",
   "metadata": {},
   "source": [
    "# Question 6"
   ]
  },
  {
   "cell_type": "markdown",
   "metadata": {},
   "source": [
    "L'algorithme stockerait toutes les valeurs des distances d'éditions pour ensuite les comparer, il y aura donc  $\\sum_{k=0}^{m} {\\binom{n+k}{n} . \\binom{n}{n+k-m}}$. "
   ]
  },
  {
   "cell_type": "code",
   "execution_count": 1,
   "metadata": {},
   "outputs": [],
   "source": [
    "# Variables glolabes: \n",
    "global x, y, n, m\n",
    "Cdel=2\n",
    "Cins=2\n",
    "\n",
    "import time"
   ]
  },
  {
   "cell_type": "code",
   "execution_count": 2,
   "metadata": {},
   "outputs": [],
   "source": [
    "def lireFichier(fichier):\n",
    "    \"\"\"\n",
    "    string-> void\n",
    "    initialise les valeurs de x,y,n et m\n",
    "    \"\"\"\n",
    "    global x, y, n, m\n",
    "    x=[]\n",
    "    y=[]\n",
    "    f = open(\"Instances_genome/\"+fichier,\"r\")\n",
    "\n",
    "    contenu = f.readlines()\n",
    "    \n",
    "    # On lit les longueurs des mots sans le caractère '\\n'\n",
    "    n= int(contenu[0].rstrip('\\n'))\n",
    "    m=int(contenu[1].rstrip('\\n'))\n",
    "    \n",
    "    # On stocke lit les mots x et y et on les stocke dans des listes\n",
    "    for el in contenu[2]:\n",
    "        if el!=' ' and el!='\\n' :\n",
    "            x.append(el)\n",
    "    \n",
    "    for el in contenu[3]:\n",
    "        if el!=' ' and el!='\\n':\n",
    "            y.append(el)\n",
    "    \n",
    "    f.close()\n",
    "\n"
   ]
  },
  {
   "cell_type": "markdown",
   "metadata": {},
   "source": [
    "# Tâche A"
   ]
  },
  {
   "cell_type": "code",
   "execution_count": 3,
   "metadata": {},
   "outputs": [],
   "source": [
    "def Csub(a,b):\n",
    "    \"\"\"\n",
    "    char*char -> int\n",
    "    renvoie le coût de substitution \n",
    "    \"\"\"\n",
    "    if(a==b):\n",
    "        return 0\n",
    "    if((a=='A' and b=='T') or (a=='T' and b=='A') or (a=='G' and b=='C') or (a=='C' and b=='G')):\n",
    "        return 3\n",
    "    return 4\n",
    "\n",
    "\n",
    "def DIST_NAIF(x,y):\n",
    "    \"\"\"\n",
    "    list[char]*list[char] -> int\n",
    "    retourne la distance d'édition entre deux mots\n",
    "    \"\"\"\n",
    "    \n",
    "    return DIST_NAIF_REC(x,y,0,0,0,float('inf'))\n",
    "\n",
    "\n",
    "def DIST_NAIF_REC(x,y,i,j,c,dist):\n",
    "    if(i==len(x) and j==len(y)):\n",
    "        if(c<dist):\n",
    "            dist=c\n",
    "    \n",
    "    else:\n",
    "        if(i<len(x) and j<len(y)):\n",
    "            dist=DIST_NAIF_REC(x,y,i+1,j+1,c+Csub(x[i],y[j]),dist)\n",
    "        \n",
    "        \n",
    "        if (i<len(x)):\n",
    "                dist=DIST_NAIF_REC(x,y,i+1,j,c+Cdel,dist)\n",
    "        \n",
    "        if(j<len(y)):\n",
    "                dist=DIST_NAIF_REC(x,y,i,j+1,c+Cins,dist)\n",
    "    \n",
    "\n",
    "    return dist"
   ]
  },
  {
   "cell_type": "code",
   "execution_count": 4,
   "metadata": {
    "scrolled": false
   },
   "outputs": [
    {
     "name": "stdout",
     "output_type": "stream",
     "text": [
      "(10, ' temps mis:', 0.05928397178649902, 'secondes')\n",
      "(8, ' temps mis:', 8.212905883789062, 'secondes')\n",
      "(2, ' temps mis:', 3.2711760997772217, 'secondes')\n"
     ]
    }
   ],
   "source": [
    "lireFichier(\"Inst_0000010_44.adn\")\n",
    "start_time = time.time()\n",
    "print(DIST_NAIF(x,y),\" temps mis:\",time.time()-start_time,\"secondes\")\n",
    "\n",
    "\n",
    "lireFichier(\"Inst_0000010_7.adn\")\n",
    "start_time = time.time()\n",
    "print(DIST_NAIF(x,y),\" temps mis:\",time.time()-start_time,\"secondes\")\n",
    "\n",
    "lireFichier(\"Inst_0000010_8.adn\")\n",
    "start_time = time.time()\n",
    "print(DIST_NAIF(x,y),\" temps mis:\",time.time()-start_time,\"secondes\")"
   ]
  },
  {
   "cell_type": "markdown",
   "metadata": {},
   "source": [
    "On évalue jusqu'à quelle taille d'instance on peut résoudre les instances fournies en moins d'une minute"
   ]
  },
  {
   "cell_type": "code",
   "execution_count": 5,
   "metadata": {},
   "outputs": [
    {
     "data": {
      "text/plain": [
       "'\"\\n\\nL\\'ex\\xc3\\xa9cution pour le trac\\xc3\\xa9 de ce graphe prend beaucou trop de temps.\\nLa sortie en image est juste au-dessous:\\n\\nimport matplotlib.pyplot as plt\\nimport numpy as np\\nimport os\\n\\nend_time=0\\nX=[]\\nY=[]\\nfor root, dirs, files in os.walk(\"Instances_genome\"):\\n    for filename in sorted(files):\\n        if(end_time)>60:\\n            break\\n        lireFichier(filename)\\n        start_time = time.time()\\n        (DIST_NAIF(x,y))\\n        end_time = time.time()-start_time\\n        X.append(end_time)\\n        Y.append(n)\\n    \\n\\nplt.plot (np.array(X),np.array(Y))\\nplt.ylabel(\\'taille des instances\\')\\nplt.xlabel(\\'temps mis en secondes\\')\\nplt.show()'"
      ]
     },
     "execution_count": 5,
     "metadata": {},
     "output_type": "execute_result"
    }
   ],
   "source": [
    "\"\"\"\"\n",
    "\n",
    "L'exécution pour le tracé de ce graphe prend beaucou trop de temps.\n",
    "La sortie en image est juste au-dessous:\n",
    "\n",
    "import matplotlib.pyplot as plt\n",
    "import numpy as np\n",
    "import os\n",
    "\n",
    "end_time=0\n",
    "X=[]\n",
    "Y=[]\n",
    "for root, dirs, files in os.walk(\"Instances_genome\"):\n",
    "    for filename in sorted(files):\n",
    "        if(end_time)>60:\n",
    "            break\n",
    "        lireFichier(filename)\n",
    "        start_time = time.time()\n",
    "        (DIST_NAIF(x,y))\n",
    "        end_time = time.time()-start_time\n",
    "        X.append(end_time)\n",
    "        Y.append(n)\n",
    "    \n",
    "\n",
    "plt.plot (np.array(X),np.array(Y))\n",
    "plt.ylabel('taille des instances')\n",
    "plt.xlabel('temps mis en secondes')\n",
    "plt.show()\"\"\""
   ]
  },
  {
   "cell_type": "markdown",
   "metadata": {},
   "source": [
    "![](images/graphe1.png)"
   ]
  },
  {
   "cell_type": "markdown",
   "metadata": {},
   "source": [
    "On peut voir avec la courbe qu'on peut résoudre en moins d'une minute jusqu'à certaines instances de taille 12."
   ]
  },
  {
   "cell_type": "markdown",
   "metadata": {},
   "source": [
    "![](images/capture.png)"
   ]
  },
  {
   "cell_type": "markdown",
   "metadata": {},
   "source": [
    "En exécutant top dans le terminal, on voit qu'elle utilise **89,628 MiB**, soit **1,3%** de la mémoire totale: **6983,8 MiB**"
   ]
  },
  {
   "cell_type": "markdown",
   "metadata": {},
   "source": [
    "### 3.2 Programmation dynamique"
   ]
  },
  {
   "cell_type": "markdown",
   "metadata": {},
   "source": [
    "#### 3.2.1 Calcul de la distance d'édition par programmation dynamique"
   ]
  },
  {
   "cell_type": "markdown",
   "metadata": {},
   "source": [
    "# Question 7"
   ]
  },
  {
   "cell_type": "markdown",
   "metadata": {},
   "source": [
    "Soit ($\\bar{u}$,$\\bar{v}$) un alignement de (x,y) de longueur **l**.\n",
    "<br>\n",
    "Si $\\bar{u}_{l}$ = - , alors  $\\bar{v}_{l}$ est dans {A,T,G,C}\n",
    "<br>\n",
    "Si $\\bar{v}_{l}$ = - , alors  $\\bar{u}_{l}$ est dans {A,T,G,C}\n",
    "<br>\n",
    "Si $\\bar{u}_{l}$ $\\neq$ -  et $\\bar{v}_{l}$ $\\neq$ -, alors  $\\bar{v}_{l}$ et  $\\bar{u}_{l}$ sont dans {A,T,G,C}"
   ]
  },
  {
   "cell_type": "markdown",
   "metadata": {},
   "source": [
    "# Question 8"
   ]
  },
  {
   "cell_type": "markdown",
   "metadata": {},
   "source": [
    "![](images/3.jpg)"
   ]
  },
  {
   "cell_type": "markdown",
   "metadata": {},
   "source": [
    "# Question 9"
   ]
  },
  {
   "cell_type": "markdown",
   "metadata": {},
   "source": [
    "![](images/4.jpg)"
   ]
  },
  {
   "cell_type": "markdown",
   "metadata": {},
   "source": [
    "# Question 10"
   ]
  },
  {
   "cell_type": "markdown",
   "metadata": {},
   "source": [
    "Si **i=0** et **j=0**, il y a pas d'alignements possibles, donc **D(0,0) n'est pas défini** "
   ]
  },
  {
   "cell_type": "markdown",
   "metadata": {},
   "source": [
    "# Question 11"
   ]
  },
  {
   "cell_type": "markdown",
   "metadata": {},
   "source": [
    "![](images/5.jpg)"
   ]
  },
  {
   "cell_type": "markdown",
   "metadata": {},
   "source": [
    "# Question 12"
   ]
  },
  {
   "cell_type": "markdown",
   "metadata": {},
   "source": [
    "![](images/6.jpg)"
   ]
  },
  {
   "cell_type": "markdown",
   "metadata": {},
   "source": [
    "# Question 13"
   ]
  },
  {
   "cell_type": "markdown",
   "metadata": {},
   "source": [
    "L'alogrithme Dist_1 rempli un tableau à deux dimensions de taille **nxm**. Sa complexité spaciale est donc $\\theta{(nm)}$."
   ]
  },
  {
   "cell_type": "markdown",
   "metadata": {},
   "source": [
    "# Question 14"
   ]
  },
  {
   "cell_type": "markdown",
   "metadata": {},
   "source": [
    "La compltexité temporelle de l'algorithme DIST_1 est $\\theta{(nm)}$ à chaque tour de boucle, il effectue au plus 4 accès à la liste T. Cet accès se fait en temps constant ($\\theta{(1)}$). D'où la complexité $\\theta{(nm)}$ de l'algorithme."
   ]
  },
  {
   "cell_type": "markdown",
   "metadata": {},
   "source": [
    "#### 3.2.2 Calcul d'un alignement optimal par programmation dynamique"
   ]
  },
  {
   "cell_type": "markdown",
   "metadata": {},
   "source": [
    "# Question 15"
   ]
  },
  {
   "cell_type": "markdown",
   "metadata": {},
   "source": [
    "![](images/7.jpg)"
   ]
  },
  {
   "cell_type": "markdown",
   "metadata": {},
   "source": [
    "# Question 16"
   ]
  },
  {
   "cell_type": "markdown",
   "metadata": {},
   "source": [
    "![](images/8.jpg)"
   ]
  },
  {
   "cell_type": "markdown",
   "metadata": {},
   "source": [
    "# Question 17"
   ]
  },
  {
   "cell_type": "markdown",
   "metadata": {},
   "source": [
    "La complexité de SOL_1 est $\\mathcal{O}(n+m)$ puisque c'est dans le pire des cas qu'on parcoure le tableau uniquement sans mouvement diagonale."
   ]
  },
  {
   "cell_type": "markdown",
   "metadata": {},
   "source": [
    "# Question 18"
   ]
  },
  {
   "cell_type": "markdown",
   "metadata": {},
   "source": [
    "La complexité de SOL_1 est $\\mathcal{O}(n+m)$ et celle de DIST_1 est $\\mathcal{O}(nm)$.D'où la combinaison est en $\\mathcal{O}(nm)$"
   ]
  },
  {
   "cell_type": "markdown",
   "metadata": {},
   "source": [
    "# Tâche B"
   ]
  },
  {
   "cell_type": "code",
   "execution_count": 6,
   "metadata": {},
   "outputs": [],
   "source": [
    "global T"
   ]
  },
  {
   "cell_type": "code",
   "execution_count": 7,
   "metadata": {},
   "outputs": [],
   "source": [
    "def DIST_1(x,y):\n",
    "    \"\"\"\n",
    "    List[char]*List[char] - > int\n",
    "    Retourne la distance d'édition \n",
    "    \"\"\"\n",
    "    # on initialise  le tableau\n",
    "    global T\n",
    "    T=[[0 for j in range(len(y)+1)] for i in range (len(x)+1)]\n",
    "    \n",
    "    for i in range(len(x)+1):\n",
    "        for j in range(len(y)+1):\n",
    "            # première case du tableau\n",
    "            if (i==0 and j==0):\n",
    "                T[i][j]=0\n",
    "            #première ligne du tableau\n",
    "            elif i==0:\n",
    "                T[0][j]=j*Cins\n",
    "            \n",
    "            #première colonne\n",
    "            elif j==0:\n",
    "                T[i][0]=i*Cdel\n",
    "            # Pour toutes les autres cases du tableau\n",
    "            else:\n",
    "            \n",
    "            #on fait x[i-1] au lieu de x[i] car le tableau T est toujours en avance de 1\n",
    "                T[i][j]=min(T[i-1][j-1]+Csub(x[i-1],y[j-1]),T[i-1][j]+Cdel,T[i][j-1]+Cins)\n",
    "    \n",
    "    return T[i][j]"
   ]
  },
  {
   "cell_type": "code",
   "execution_count": 8,
   "metadata": {},
   "outputs": [
    {
     "name": "stdout",
     "output_type": "stream",
     "text": [
      "(10, ' temps mis:', 0.00030612945556640625, 'secondes')\n",
      "(8, ' temps mis:', 0.0004551410675048828, 'secondes')\n",
      "(2, ' temps mis:', 0.0002951622009277344, 'secondes')\n"
     ]
    }
   ],
   "source": [
    "lireFichier(\"Inst_0000010_44.adn\")\n",
    "start_time = time.time()\n",
    "print(DIST_1(x,y),\" temps mis:\",time.time()-start_time,\"secondes\")\n",
    "\n",
    "\n",
    "lireFichier(\"Inst_0000010_7.adn\")\n",
    "start_time = time.time()\n",
    "print(DIST_1(x,y),\" temps mis:\",time.time()-start_time,\"secondes\")\n",
    "\n",
    "lireFichier(\"Inst_0000010_8.adn\")\n",
    "start_time = time.time()\n",
    "print(DIST_1(x,y),\" temps mis:\",time.time()-start_time,\"secondes\")\n"
   ]
  },
  {
   "cell_type": "markdown",
   "metadata": {},
   "source": [
    "On peut remarquer que là où il nous a fallu **10.63 secondes** pour Inst_0000010_7.adn avec DIST_NAIF, il ne nous faut que **0.0003 secondes** avec DIST_1."
   ]
  },
  {
   "cell_type": "code",
   "execution_count": 9,
   "metadata": {},
   "outputs": [],
   "source": [
    "# bibliothèque pour implémenter des listes doublement chaînées\n",
    "#On pourra utiliser appendleft qui a une complexité de O(1)\n",
    "from pyllist import dllist"
   ]
  },
  {
   "cell_type": "code",
   "execution_count": 10,
   "metadata": {},
   "outputs": [],
   "source": [
    "\n",
    "\n",
    "def SOL_1(x,y,T):\n",
    "    \"\"\"\n",
    "    List[char]*List[char]*List[List[int]] -> (List[char],List[char])\n",
    "    Retourne un alignement minimal\n",
    "    \"\"\"\n",
    "    \n",
    "    # on initialise i et j aux indices du dernier élément du tableau\n",
    "    i=len(T)-1\n",
    "    j=len(T[0])-1\n",
    "    \n",
    "    #l'alignement minimal    \n",
    "    newX=dllist() \n",
    "    newY=dllist() \n",
    "    \n",
    "    while(i!=0 and j!=0):\n",
    "        \n",
    "        #on remonte diagonalement\n",
    "        if (T[i][j]==T[i-1][j-1]+Csub(x[i-1],y[j-1])):  #on fait x[i-1] au lieu de x[i] car le tableau T est toujours en avance de 1\n",
    "            \n",
    "            newX.appendleft(x[i-1])                     \n",
    "            newY.appendleft(y[j-1])\n",
    "            i=i-1\n",
    "            j=j-1\n",
    "\n",
    "        #on remonte verticalement\n",
    "        elif (T[i][j]==T[i-1][j]+Cdel):\n",
    "            newX.appendleft(x[i-1])\n",
    "            newY.appendleft('-')\n",
    "            i=i-1\n",
    "        \n",
    "        #on remonte horizontalement\n",
    "        elif (T[i][j]==T[i][j-1]+Cins):\n",
    "            newX.appendleft('-')\n",
    "            newY.appendleft(y[i-1])\n",
    "            j=j-1\n",
    "        \n",
    "    return (newX,newY)"
   ]
  },
  {
   "cell_type": "code",
   "execution_count": 11,
   "metadata": {},
   "outputs": [
    {
     "name": "stdout",
     "output_type": "stream",
     "text": [
      "(dllist(['T', 'A', 'T', 'A', 'T', 'G', 'A', 'G', 'T', 'C']), dllist(['T', 'A', 'T', '-', 'T', '-', '-', '-', 'T', '-']))\n",
      "(dllist(['T', 'G', 'G', 'G', 'T', 'G', 'C', 'T', 'A', 'T']), dllist(['G', 'G', 'G', 'G', 'T', 'T', 'C', 'T', 'A', 'T']))\n",
      "(dllist(['A', 'A', 'C', 'T', 'G', 'T', 'C', 'T', 'T', 'T']), dllist(['A', 'A', 'C', 'T', 'G', 'T', '-', 'T', 'T', 'T']))\n"
     ]
    }
   ],
   "source": [
    "global T\n",
    "lireFichier(\"Inst_0000010_44.adn\")\n",
    "DIST_1(x,y)\n",
    "print(SOL_1(x,y,T))\n",
    "\n",
    "\n",
    "lireFichier(\"Inst_0000010_7.adn\")\n",
    "DIST_1(x,y)\n",
    "print(SOL_1(x,y,T))\n",
    "\n",
    "lireFichier(\"Inst_0000010_8.adn\")\n",
    "DIST_1(x,y)\n",
    "print(SOL_1(x,y,T))"
   ]
  },
  {
   "cell_type": "code",
   "execution_count": 12,
   "metadata": {},
   "outputs": [],
   "source": [
    "def PROG_DYN(x,y):\n",
    "    \"\"\"\n",
    "    List[char]*List[char] -> (int,List[char]*List[char])\n",
    "    retourne d(x,y) et un alignement correspondant\n",
    "    \"\"\"\n",
    "    return (DIST_1(x,y),SOL_1(x,y,T))\n",
    "    "
   ]
  },
  {
   "cell_type": "code",
   "execution_count": null,
   "metadata": {},
   "outputs": [
    {
     "name": "stdout",
     "output_type": "stream",
     "text": [
      "(10, (dllist(['T', 'A', 'T', 'A', 'T', 'G', 'A', 'G', 'T', 'C']), dllist(['T', 'A', 'T', '-', 'T', '-', '-', '-', 'T', '-'])))\n",
      "('temps mis:', 0.00047707557678222656, 'secondes')\n",
      "(8, (dllist(['T', 'G', 'G', 'G', 'T', 'G', 'C', 'T', 'A', 'T']), dllist(['G', 'G', 'G', 'G', 'T', 'T', 'C', 'T', 'A', 'T'])))\n",
      "('temps mis:', 0.00032210350036621094, 'secondes')\n"
     ]
    }
   ],
   "source": [
    "lireFichier(\"Inst_0000010_44.adn\")\n",
    "start_time = time.time()\n",
    "print(PROG_DYN(x,y))\n",
    "print(\"temps mis:\",time.time()-start_time,\"secondes\")\n",
    "\n",
    "\n",
    "lireFichier(\"Inst_0000010_7.adn\")\n",
    "start_time = time.time()\n",
    "print(PROG_DYN(x,y))\n",
    "print(\"temps mis:\",time.time()-start_time,\"secondes\")\n",
    "\n",
    "\n",
    "lireFichier(\"Inst_0100000_8.adn\")\n",
    "start_time = time.time()\n",
    "print(PROG_DYN(x,y))\n",
    "print(\"temps mis:\",time.time()-start_time,\"secondes\")"
   ]
  },
  {
   "cell_type": "markdown",
   "metadata": {},
   "source": [
    "### Tracé de la courbe de PROG_DYN(x,y) en fonction du temps"
   ]
  },
  {
   "cell_type": "code",
   "execution_count": null,
   "metadata": {},
   "outputs": [],
   "source": [
    "\"\"\"import matplotlib.pyplot as plt\n",
    "import numpy as np\n",
    "import os\n",
    "\n",
    "end_time=0\n",
    "X=[]\n",
    "Y=[]\n",
    "for root, dirs, files in os.walk(\"Instances_genome\"):\n",
    "    for filename in sorted(files):\n",
    "        if(end_time)>60:\n",
    "            break\n",
    "        lireFichier(filename)\n",
    "        start_time = time.time()\n",
    "        (PROG_DYN(x,y))\n",
    "        end_time = time.time()-start_time\n",
    "        X.append(end_time)\n",
    "        Y.append(n)\n",
    "    \n",
    "print(X)\n",
    "print(Y)\n",
    "plt.plot (np.array(X),np.array(Y))\n",
    "plt.ylabel('taille des instances')\n",
    "plt.xlabel('temps mis en secondes')\n",
    "plt.show()\"\"\""
   ]
  },
  {
   "cell_type": "markdown",
   "metadata": {},
   "source": [
    "![](images/TACHEB.png)"
   ]
  },
  {
   "cell_type": "markdown",
   "metadata": {},
   "source": [
    "Les résultats correspondes bien vu que: Pour n =20000 on a m = 17799 et donc n*m= 355980000 microS= 356 secondes"
   ]
  },
  {
   "cell_type": "markdown",
   "metadata": {},
   "source": [
    "![](images/TACHEBMEMOIRE.png)"
   ]
  },
  {
   "cell_type": "markdown",
   "metadata": {},
   "source": [
    "# Question 19"
   ]
  },
  {
   "cell_type": "markdown",
   "metadata": {},
   "source": [
    "Dans le calcul des distances d'édition dans la question 15, on remarque qu'on a seulement besoin des valeurs de la ligne précédente et des valeurs sur la ligne sur laquelle on se trouve. "
   ]
  },
  {
   "cell_type": "markdown",
   "metadata": {},
   "source": [
    "# Question 20"
   ]
  },
  {
   "cell_type": "markdown",
   "metadata": {},
   "source": [
    "![](images/10.jpeg)"
   ]
  },
  {
   "cell_type": "code",
   "execution_count": 4,
   "metadata": {},
   "outputs": [],
   "source": [
    "def DIST_2(x,y):\n",
    "    \"\"\"\n",
    "    List[char]*List[char] - > int\n",
    "    Retourne la distance d'édition \n",
    "    \"\"\"\n",
    "    # on initialise  le tableau\n",
    "    global T\n",
    "    T=[[0 for j in range(len(y)+1)] for i in range (2)]\n",
    "    \n",
    "    for i in range(len(x)+1):\n",
    "        for j in range(len(y)+1):\n",
    "            # première case du tableau\n",
    "            if (i==0 and j==0):\n",
    "                T[i%2][j]=0\n",
    "            #première ligne du tableau\n",
    "            elif i==0:\n",
    "                T[0][j]=j*Cins\n",
    "            \n",
    "            #première colonne\n",
    "            elif j==0:\n",
    "                T[i%2][0]=i*Cdel\n",
    "            # Pour toutes les autres cases du tableau\n",
    "            else:\n",
    "            \n",
    "            #on fait x[i-1] au lieu de x[i] car le tableau T est toujours en avance de 1\n",
    "                T[i%2][j]=min(T[(i-1)%2][j-1]+Csub(x[i-1],y[j-1]),T[(i-1)%2][j]+Cdel,T[i%2][j-1]+Cins)\n",
    "    \n",
    "    return T[i%2][j]"
   ]
  },
  {
   "cell_type": "code",
   "execution_count": 413,
   "metadata": {},
   "outputs": [
    {
     "name": "stdout",
     "output_type": "stream",
     "text": [
      "(10, ' temps mis:', 0.0002579689025878906, 'secondes')\n",
      "(8, ' temps mis:', 0.00038504600524902344, 'secondes')\n",
      "(2, ' temps mis:', 0.0002701282501220703, 'secondes')\n"
     ]
    }
   ],
   "source": [
    "lireFichier(\"Inst_0000010_44.adn\")\n",
    "start_time = time.time()\n",
    "print(DIST_2(x,y),\" temps mis:\",time.time()-start_time,\"secondes\")\n",
    "\n",
    "\n",
    "lireFichier(\"Inst_0000010_7.adn\")\n",
    "start_time = time.time()\n",
    "print(DIST_2(x,y),\" temps mis:\",time.time()-start_time,\"secondes\")\n",
    "\n",
    "lireFichier(\"Inst_0000010_8.adn\")\n",
    "start_time = time.time()\n",
    "print(DIST_2(x,y),\" temps mis:\",time.time()-start_time,\"secondes\")\n"
   ]
  },
  {
   "cell_type": "markdown",
   "metadata": {},
   "source": [
    "![](images/TACHEC.png)"
   ]
  },
  {
   "cell_type": "markdown",
   "metadata": {},
   "source": [
    "On voit que dist2 est plus performant."
   ]
  },
  {
   "cell_type": "markdown",
   "metadata": {},
   "source": [
    "![](images/TACHECMEMOIRE.png)"
   ]
  },
  {
   "cell_type": "markdown",
   "metadata": {},
   "source": [
    "On voit qu'au début du programme, elle utilise déjà 1,48 Gigas"
   ]
  },
  {
   "cell_type": "markdown",
   "metadata": {},
   "source": [
    "# Question 21"
   ]
  },
  {
   "cell_type": "markdown",
   "metadata": {},
   "source": [
    "![](images/11.jpeg)"
   ]
  },
  {
   "cell_type": "markdown",
   "metadata": {},
   "source": [
    "# Question 22"
   ]
  },
  {
   "cell_type": "markdown",
   "metadata": {},
   "source": [
    "![](images/12.jpeg)"
   ]
  },
  {
   "cell_type": "markdown",
   "metadata": {},
   "source": [
    "# Question 23"
   ]
  },
  {
   "cell_type": "raw",
   "metadata": {},
   "source": [
    "x1=BAL      y1=RO\n",
    "x2=LON      y2=ND\n",
    "Cins=Cdel=3\n",
    "Csub(a,b)={0 si a=b\n",
    "           5 si a et b deux voyelles\n",
    "           7 si a et b deux consonnes}\n",
    "(s,t) alignement de (x1,y1):\n",
    "13\n",
    "(u,v) alignement de (x2,y2):\n",
    "8\n",
    "Soit B A L L O N\n",
    "     R O   D   N\n",
    "Soit 21\n",
    "Cependant pour un alignement optimale de (x,y) on obtient:\n",
    "Soit B A L L O N\n",
    "     R     D O N\n",
    "Soit 16\n",
    "Donc on constate que (s*u,t*v) n'est pas un alignement optimal de (x,y), de ce fait\n",
    "couper le milieu du mot n'est pas la bonne façon pour obtenir un alignement optimale."
   ]
  },
  {
   "cell_type": "markdown",
   "metadata": {},
   "source": [
    "# Question 24"
   ]
  },
  {
   "cell_type": "markdown",
   "metadata": {},
   "source": [
    "![](images/14.jpeg)"
   ]
  },
  {
   "cell_type": "markdown",
   "metadata": {},
   "source": [
    "# Question 25\n"
   ]
  },
  {
   "cell_type": "markdown",
   "metadata": {},
   "source": [
    "![](images/13.jpeg)"
   ]
  },
  {
   "cell_type": "code",
   "execution_count": 165,
   "metadata": {},
   "outputs": [],
   "source": [
    "def aligne_lettre_mot(x,y):\n",
    "    i=0\n",
    "    for i in range(len(y)):\n",
    "        if (x[0] == y[i]):\n",
    "            break;\n",
    "    return (mots_gaps(i)+[x[0]]+mots_gaps(len(y)-i-1),y)"
   ]
  },
  {
   "cell_type": "code",
   "execution_count": 166,
   "metadata": {},
   "outputs": [],
   "source": [
    "def mots_gaps(k):\n",
    "    return ['-']*k"
   ]
  },
  {
   "cell_type": "code",
   "execution_count": 167,
   "metadata": {},
   "outputs": [
    {
     "name": "stdout",
     "output_type": "stream",
     "text": [
      "(['-', 'T', '-'], ['A', 'T', 'C'])\n"
     ]
    }
   ],
   "source": [
    "x=['T']\n",
    "y=['A','T','C']\n",
    "print(aligne_lettre_mot(x,y))"
   ]
  },
  {
   "cell_type": "code",
   "execution_count": 427,
   "metadata": {},
   "outputs": [],
   "source": [
    "def SOL_2(x,y):\n",
    "    \n",
    "    # On introduit les listes doublement chaînées pour avoir une complexité de concaténation = O(1)\n",
    "  \n",
    "    \n",
    "    if(len(y)==0):\n",
    "        return (x,mots_gaps(len(x)))\n",
    "    elif(len(x)==0):\n",
    "        return (mots_gaps(len(y)),y)\n",
    "    \n",
    "    \n",
    "    \n",
    "    elif(len(x)==1 and len(y)==1):  \n",
    "        \n",
    "        return (dllist(x),dllist(y))\n",
    "    \n",
    "    elif(len(x)==1):\n",
    "        return aligne_lettre_mot(x,y)\n",
    "    \n",
    "    \n",
    "     \n",
    "    else:\n",
    "        AlX1= x[0:len(x)//2]\n",
    "        \n",
    "        AlX2= x[len(x)//2:]\n",
    "        AlY1 = y[0:coupure(x,y)]\n",
    "        AlY2= y[coupure(x,y):]\n",
    "        \n",
    "        \n",
    "        a=SOL_2(AlX1,AlY1)\n",
    "        b=SOL_2(AlX2,AlY2)\n",
    "        return (dllist(a[0])+dllist(b[0]),dllist(a[1])+dllist(b[1]))\n",
    "        \n",
    "        "
   ]
  },
  {
   "cell_type": "code",
   "execution_count": 428,
   "metadata": {},
   "outputs": [],
   "source": [
    "\n",
    "\n",
    "def coupure(x,y):\n",
    "    \"\"\"\n",
    "    List[char]*List[char]*List[List[int]] -> int)\n",
    "    Retourne la coupure j*\n",
    "    \"\"\"\n",
    "    # on initialise  le tableau\n",
    "    global T\n",
    "    T=[[0 for j in range(len(y)+1)] for i in range (2)]\n",
    "    I=[0]*(len(y)+1) \n",
    "    \n",
    "    for i in range(len(x)//2,len(x)+1):\n",
    "        for j in range(len(y)+1):\n",
    "            \n",
    "            \n",
    "            \n",
    "            # on utilise ces variables temporaires pour pouvoir retrouver les valeurs initiales de i et j\n",
    "            p=i\n",
    "            q=j\n",
    "           \n",
    "            while( p!=len(x)//2):\n",
    "                \n",
    "                # On calcule la distance D pour les lignes p et p-1\n",
    "                DIST_2(x[:p],y)\n",
    "                \n",
    "                #on remonte verticalement\n",
    "                if (T[p%2][q]==T[(p-1)%2][q]+Cdel):\n",
    "                    \n",
    "                    p=p-1\n",
    "                    \n",
    "\n",
    "                #on remonte horizontalement\n",
    "                elif (T[p%2][q]==T[p%2][(q-1)]+Cins):\n",
    "                    q=q-1\n",
    "                   \n",
    "                \n",
    "                \n",
    "                \n",
    "                #on remonte diagonalement\n",
    "                elif (T[p%2][q]==T[(p-1)%2][(q-1)]+Csub(x[p-1],y[q-1])):\n",
    "\n",
    "                    p=p-1\n",
    "                    q=q-1\n",
    "                    \n",
    "                    \n",
    "\n",
    "            # on ajoute à la liste I la valeur de j (càd q) trouvé           \n",
    "            I[j] = q\n",
    "    return I[j]"
   ]
  },
  {
   "cell_type": "code",
   "execution_count": 429,
   "metadata": {},
   "outputs": [
    {
     "name": "stdout",
     "output_type": "stream",
     "text": [
      "(dllist(['A', 'A', 'C', 'T', 'G', 'T', 'C', 'T', 'T', 'T']), dllist(['A', 'A', 'C', 'T', 'G', 'T', '-', 'T', 'T', 'T']))\n"
     ]
    }
   ],
   "source": [
    "lireFichier(\"Inst_0000010_8.adn\")\n",
    "print(SOL_2(x,y))"
   ]
  },
  {
   "cell_type": "code",
   "execution_count": 430,
   "metadata": {},
   "outputs": [
    {
     "name": "stdout",
     "output_type": "stream",
     "text": [
      "((dllist(['T', 'A', 'T', 'A', 'T', 'G', 'A', 'G', 'T', 'C']), dllist(['T', 'A', 'T', '-', 'T', '-', '-', '-', 'T', '-'])), ' temps mis:', 0.010593891143798828, 'secondes')\n",
      "((dllist(['T', 'G', 'G', 'G', '-', 'T', '-', 'G', 'C', 'T', 'A', 'T']), dllist(['-', 'G', 'G', 'G', 'G', 'T', 'T', '-', 'C', 'T', 'A', 'T'])), ' temps mis:', 0.03449702262878418, 'secondes')\n",
      "((dllist(['A', 'A', 'C', 'T', 'G', 'T', 'C', 'T', 'T', 'T']), dllist(['A', 'A', 'C', 'T', 'G', 'T', '-', 'T', 'T', 'T'])), ' temps mis:', 0.02656698226928711, 'secondes')\n"
     ]
    }
   ],
   "source": [
    "lireFichier(\"Inst_0000010_44.adn\")\n",
    "start_time = time.time()\n",
    "print(SOL_2(x,y),\" temps mis:\",time.time()-start_time,\"secondes\")\n",
    "\n",
    "\n",
    "lireFichier(\"Inst_0000010_7.adn\")\n",
    "start_time = time.time()\n",
    "print(SOL_2(x,y),\" temps mis:\",time.time()-start_time,\"secondes\")\n",
    "\n",
    "lireFichier(\"Inst_0000010_8.adn\")\n",
    "start_time = time.time()\n",
    "print(SOL_2(x,y),\" temps mis:\",time.time()-start_time,\"secondes\")"
   ]
  },
  {
   "cell_type": "markdown",
   "metadata": {},
   "source": [
    "# Question 26"
   ]
  },
  {
   "cell_type": "markdown",
   "metadata": {},
   "source": [
    "La fonction coupure utilise un tableau T à deux lignes et à m (longueur de y) colonnes et un tableau I à une ligne et m colonnes. Donc au total **3 x m** . D'où la complexité de $\\theta{(m)}$"
   ]
  },
  {
   "cell_type": "markdown",
   "metadata": {},
   "source": [
    "# Question 27"
   ]
  },
  {
   "cell_type": "markdown",
   "metadata": {},
   "source": [
    "La fonction SOL_2 démarre avec deux listes de longueur n et m. Et pour chaque tableau, on effectue un appel récursif sur les deux moitiés du tableau, et ainsi de suite.\n",
    "On remarque que pour un tableau de longueur n, on a occuple les espaces mémoires suivants: n + 2 * n/2 + 2 * n/4 +....+ 1= n + 2 x n/2 x $\\frac{1-(\\frac{1}{2})^(log(n))}{\\frac{1}{2}}$ = n (3 - $(\\frac{1}{2})^{log(n)})$ . Le nombre d'opérations pour les deux mots est: n (3 - $(\\frac{1}{2})^{log(n)})$ + m (3 - $(\\frac{1}{2})^{log(m)})$"
   ]
  },
  {
   "cell_type": "markdown",
   "metadata": {},
   "source": [
    "# Question 28"
   ]
  },
  {
   "cell_type": "markdown",
   "metadata": {},
   "source": [
    "Pour la boucle i, elle la fait au total n/2; pour la boucle j, elle la fait m fois et dans la boucle while, elle fait au pire (j+i-len(x)/2) tours de boucles dans lesquelles elle fait appelle à DIST_2 qui a O(nm) en complexité. Donc la compléxité est:O(m²n²)"
   ]
  },
  {
   "cell_type": "markdown",
   "metadata": {},
   "source": [
    " # Tâche D"
   ]
  },
  {
   "cell_type": "markdown",
   "metadata": {},
   "source": [
    "![](images/TACHED.png)"
   ]
  },
  {
   "cell_type": "markdown",
   "metadata": {},
   "source": [
    "# Question 29"
   ]
  },
  {
   "cell_type": "markdown",
   "metadata": {},
   "source": [
    "On remarque qu'effectivement en améliorant la complexité mémoire, on a perdu en complexité en temps, puisque dans le temps imparti, il ne va que jusqu'à n=100"
   ]
  }
 ],
 "metadata": {
  "kernelspec": {
   "display_name": "Python 2",
   "language": "python",
   "name": "python2"
  },
  "language_info": {
   "codemirror_mode": {
    "name": "ipython",
    "version": 2
   },
   "file_extension": ".py",
   "mimetype": "text/x-python",
   "name": "python",
   "nbconvert_exporter": "python",
   "pygments_lexer": "ipython2",
   "version": "2.7.16"
  }
 },
 "nbformat": 4,
 "nbformat_minor": 2
}
